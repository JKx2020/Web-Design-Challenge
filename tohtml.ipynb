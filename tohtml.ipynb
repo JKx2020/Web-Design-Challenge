{
 "nbformat": 4,
 "nbformat_minor": 2,
 "metadata": {
  "language_info": {
   "name": "python",
   "codemirror_mode": {
    "name": "ipython",
    "version": 3
   },
   "version": "3.7.4-final"
  },
  "orig_nbformat": 2,
  "file_extension": ".py",
  "mimetype": "text/x-python",
  "name": "python",
  "npconvert_exporter": "python",
  "pygments_lexer": "ipython3",
  "version": 3,
  "kernelspec": {
   "name": "python37464bitbasecondad15c2425cf4349178bea86b871cda123",
   "display_name": "Python 3.7.4 64-bit ('base': conda)"
  }
 },
 "cells": [
  {
   "cell_type": "code",
   "execution_count": 18,
   "metadata": {},
   "outputs": [],
   "source": [
    "import pandas as pd\n",
    ""
   ]
  },
  {
   "cell_type": "code",
   "execution_count": 19,
   "metadata": {},
   "outputs": [],
   "source": [
    "path = \"WebVisualizations/city_perfect_weather.csv\"\n",
    ""
   ]
  },
  {
   "cell_type": "code",
   "execution_count": 20,
   "metadata": {},
   "outputs": [
    {
     "output_type": "execute_result",
     "data": {
      "text/plain": "     City Name City Country  City Lat  City Long  Temps (F)  Humidity %  \\\n0  port alfred           ZA    -33.59      26.89      71.01          81   \n1     cidreira           BR    -30.18     -50.21      73.40          67   \n2       dingle           PH     11.00     122.67      73.00          83   \n3     bilaspur           IN     22.08      82.15      80.65          27   \n4    tecoanapa           MX     16.52     -98.75      84.06          55   \n\n   Cloudiness %  Windspeed (mph)  \n0             0             7.00  \n1             0             9.24  \n2             0             8.77  \n3             0             5.82  \n4             0             1.52  ",
      "text/html": "<div>\n<style scoped>\n    .dataframe tbody tr th:only-of-type {\n        vertical-align: middle;\n    }\n\n    .dataframe tbody tr th {\n        vertical-align: top;\n    }\n\n    .dataframe thead th {\n        text-align: right;\n    }\n</style>\n<table border=\"1\" class=\"dataframe\">\n  <thead>\n    <tr style=\"text-align: right;\">\n      <th></th>\n      <th>City Name</th>\n      <th>City Country</th>\n      <th>City Lat</th>\n      <th>City Long</th>\n      <th>Temps (F)</th>\n      <th>Humidity %</th>\n      <th>Cloudiness %</th>\n      <th>Windspeed (mph)</th>\n    </tr>\n  </thead>\n  <tbody>\n    <tr>\n      <td>0</td>\n      <td>port alfred</td>\n      <td>ZA</td>\n      <td>-33.59</td>\n      <td>26.89</td>\n      <td>71.01</td>\n      <td>81</td>\n      <td>0</td>\n      <td>7.00</td>\n    </tr>\n    <tr>\n      <td>1</td>\n      <td>cidreira</td>\n      <td>BR</td>\n      <td>-30.18</td>\n      <td>-50.21</td>\n      <td>73.40</td>\n      <td>67</td>\n      <td>0</td>\n      <td>9.24</td>\n    </tr>\n    <tr>\n      <td>2</td>\n      <td>dingle</td>\n      <td>PH</td>\n      <td>11.00</td>\n      <td>122.67</td>\n      <td>73.00</td>\n      <td>83</td>\n      <td>0</td>\n      <td>8.77</td>\n    </tr>\n    <tr>\n      <td>3</td>\n      <td>bilaspur</td>\n      <td>IN</td>\n      <td>22.08</td>\n      <td>82.15</td>\n      <td>80.65</td>\n      <td>27</td>\n      <td>0</td>\n      <td>5.82</td>\n    </tr>\n    <tr>\n      <td>4</td>\n      <td>tecoanapa</td>\n      <td>MX</td>\n      <td>16.52</td>\n      <td>-98.75</td>\n      <td>84.06</td>\n      <td>55</td>\n      <td>0</td>\n      <td>1.52</td>\n    </tr>\n  </tbody>\n</table>\n</div>"
     },
     "metadata": {},
     "execution_count": 20
    }
   ],
   "source": [
    "df = pd.read_csv(path)\n",
    "\n",
    "df = df.drop([\"Unnamed: 0\",\"Unnamed: 0.1\", \"City ID\", \"City Datetime\"], axis =1)\n",
    "\n",
    "df.head()"
   ]
  },
  {
   "cell_type": "code",
   "execution_count": 21,
   "metadata": {},
   "outputs": [],
   "source": [
    "df.to_html(\"vacation.html\")"
   ]
  },
  {
   "cell_type": "code",
   "execution_count": null,
   "metadata": {},
   "outputs": [],
   "source": []
  }
 ]
}