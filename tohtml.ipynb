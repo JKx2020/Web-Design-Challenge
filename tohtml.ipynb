{
 "nbformat": 4,
 "nbformat_minor": 2,
 "metadata": {
  "language_info": {
   "name": "python",
   "codemirror_mode": {
    "name": "ipython",
    "version": 3
   },
   "version": "3.7.4-final"
  },
  "orig_nbformat": 2,
  "file_extension": ".py",
  "mimetype": "text/x-python",
  "name": "python",
  "npconvert_exporter": "python",
  "pygments_lexer": "ipython3",
  "version": 3,
  "kernelspec": {
   "name": "python37464bitbasecondad15c2425cf4349178bea86b871cda123",
   "display_name": "Python 3.7.4 64-bit ('base': conda)"
  }
 },
 "cells": [
  {
   "cell_type": "code",
   "execution_count": 6,
   "metadata": {},
   "outputs": [],
   "source": [
    "import pandas as pd\n"
   ]
  },
  {
   "cell_type": "code",
   "execution_count": 7,
   "metadata": {},
   "outputs": [],
   "source": [
    "path = \"WebVisualizations/city_perfect_weather.csv\"\n"
   ]
  },
  {
   "cell_type": "code",
   "execution_count": 8,
   "metadata": {},
   "outputs": [
    {
     "data": {
      "text/html": "<div>\n<style scoped>\n    .dataframe tbody tr th:only-of-type {\n        vertical-align: middle;\n    }\n\n    .dataframe tbody tr th {\n        vertical-align: top;\n    }\n\n    .dataframe thead th {\n        text-align: right;\n    }\n</style>\n<table border=\"1\" class=\"dataframe\">\n  <thead>\n    <tr style=\"text-align: right;\">\n      <th></th>\n      <th>Unnamed: 0</th>\n      <th>Unnamed: 0.1</th>\n      <th>City Name</th>\n      <th>City Country</th>\n      <th>City ID</th>\n      <th>City Lat</th>\n      <th>City Long</th>\n      <th>Temps (F)</th>\n      <th>Humidity %</th>\n      <th>Cloudiness %</th>\n      <th>Windspeed (mph)</th>\n      <th>City Datetime</th>\n    </tr>\n  </thead>\n  <tbody>\n    <tr>\n      <td>0</td>\n      <td>9</td>\n      <td>9</td>\n      <td>port alfred</td>\n      <td>ZA</td>\n      <td>964432</td>\n      <td>-33.59</td>\n      <td>26.89</td>\n      <td>71.01</td>\n      <td>81</td>\n      <td>0</td>\n      <td>7.00</td>\n      <td>1583078781</td>\n    </tr>\n    <tr>\n      <td>1</td>\n      <td>21</td>\n      <td>21</td>\n      <td>cidreira</td>\n      <td>BR</td>\n      <td>3466165</td>\n      <td>-30.18</td>\n      <td>-50.21</td>\n      <td>73.40</td>\n      <td>67</td>\n      <td>0</td>\n      <td>9.24</td>\n      <td>1583078790</td>\n    </tr>\n    <tr>\n      <td>2</td>\n      <td>28</td>\n      <td>28</td>\n      <td>dingle</td>\n      <td>PH</td>\n      <td>1714733</td>\n      <td>11.00</td>\n      <td>122.67</td>\n      <td>73.00</td>\n      <td>83</td>\n      <td>0</td>\n      <td>8.77</td>\n      <td>1583078794</td>\n    </tr>\n    <tr>\n      <td>3</td>\n      <td>71</td>\n      <td>71</td>\n      <td>bilaspur</td>\n      <td>IN</td>\n      <td>1275637</td>\n      <td>22.08</td>\n      <td>82.15</td>\n      <td>80.65</td>\n      <td>27</td>\n      <td>0</td>\n      <td>5.82</td>\n      <td>1583078824</td>\n    </tr>\n    <tr>\n      <td>4</td>\n      <td>84</td>\n      <td>84</td>\n      <td>tecoanapa</td>\n      <td>MX</td>\n      <td>3516171</td>\n      <td>16.52</td>\n      <td>-98.75</td>\n      <td>84.06</td>\n      <td>55</td>\n      <td>0</td>\n      <td>1.52</td>\n      <td>1583078832</td>\n    </tr>\n  </tbody>\n</table>\n</div>",
      "text/plain": "   Unnamed: 0  Unnamed: 0.1    City Name City Country  City ID  City Lat  \\\n0           9             9  port alfred           ZA   964432    -33.59   \n1          21            21     cidreira           BR  3466165    -30.18   \n2          28            28       dingle           PH  1714733     11.00   \n3          71            71     bilaspur           IN  1275637     22.08   \n4          84            84    tecoanapa           MX  3516171     16.52   \n\n   City Long  Temps (F)  Humidity %  Cloudiness %  Windspeed (mph)  \\\n0      26.89      71.01          81             0             7.00   \n1     -50.21      73.40          67             0             9.24   \n2     122.67      73.00          83             0             8.77   \n3      82.15      80.65          27             0             5.82   \n4     -98.75      84.06          55             0             1.52   \n\n   City Datetime  \n0     1583078781  \n1     1583078790  \n2     1583078794  \n3     1583078824  \n4     1583078832  "
     },
     "execution_count": 8,
     "metadata": {},
     "output_type": "execute_result"
    }
   ],
   "source": [
    "df = pd.read_csv(path)\n",
    "\n",
    "df.head()"
   ]
  },
  {
   "cell_type": "code",
   "execution_count": 10,
   "metadata": {},
   "outputs": [],
   "source": [
    "df.to_html(\"vacation.html\")"
   ]
  },
  {
   "cell_type": "code",
   "execution_count": null,
   "metadata": {},
   "outputs": [],
   "source": []
  }
 ]
}